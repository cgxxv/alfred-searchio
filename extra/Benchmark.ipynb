{
 "cells": [
  {
   "cell_type": "code",
   "execution_count": 5,
   "metadata": {},
   "outputs": [],
   "source": [
    "import os\n",
    "import subprocess\n",
    "from time import time\n",
    "\n",
    "def bench(cmd, reps=10):\n",
    "    times = []\n",
    "    for i in range(reps):\n",
    "        s = time()\n",
    "        subprocess.call(cmd)\n",
    "        d = time() - s\n",
    "        times.append(d)\n",
    "        print('{:02d}. {:0.3f}s'.format(i + 1, d))\n",
    "\n",
    "    av = sum(times) / float(reps)\n",
    "    print('-' * 15)\n",
    "    print('{:0.3f}s/run'.format(av))\n"
   ]
  },
  {
   "cell_type": "code",
   "execution_count": 6,
   "metadata": {},
   "outputs": [],
   "source": [
    "REPS = 10\n",
    "QUERY = 'quimby'"
   ]
  },
  {
   "cell_type": "code",
   "execution_count": 7,
   "metadata": {
    "scrolled": true
   },
   "outputs": [
    {
     "name": "stdout",
     "output_type": "stream",
     "text": [
      "01. 0.941s\n",
      "02. 0.333s\n",
      "03. 0.316s\n",
      "04. 0.323s\n",
      "05. 0.306s\n",
      "06. 0.346s\n",
      "07. 0.396s\n",
      "08. 0.327s\n",
      "09. 0.314s\n",
      "10. 0.341s\n",
      "---------------\n",
      "0.394s/run\n"
     ]
    }
   ],
   "source": [
    "bench(['../src/searchio', 'search', 'google-en', QUERY], REPS)"
   ]
  },
  {
   "cell_type": "code",
   "execution_count": 8,
   "metadata": {},
   "outputs": [
    {
     "name": "stdout",
     "output_type": "stream",
     "text": [
      "01. 0.348s\n",
      "02. 0.033s\n",
      "03. 0.026s\n",
      "04. 0.032s\n",
      "05. 0.024s\n",
      "06. 0.026s\n",
      "07. 0.025s\n",
      "08. 0.025s\n",
      "09. 0.029s\n",
      "10. 0.028s\n",
      "---------------\n",
      "0.060s/run\n"
     ]
    }
   ],
   "source": [
    "bench(['../src/search', 'google-en', QUERY], REPS)"
   ]
  }
 ],
 "metadata": {
  "kernelspec": {
   "display_name": "Python 2",
   "language": "python",
   "name": "python2"
  },
  "language_info": {
   "codemirror_mode": {
    "name": "ipython",
    "version": 2
   },
   "file_extension": ".py",
   "mimetype": "text/x-python",
   "name": "python",
   "nbconvert_exporter": "python",
   "pygments_lexer": "ipython2",
   "version": "2.7.14"
  }
 },
 "nbformat": 4,
 "nbformat_minor": 2
}
